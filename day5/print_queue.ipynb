{
 "cells": [
  {
   "cell_type": "markdown",
   "metadata": {},
   "source": [
    "# --- Day 5: Print Queue ---\n",
    "\n",
    "### Part 1\n"
   ]
  },
  {
   "cell_type": "code",
   "execution_count": 46,
   "metadata": {},
   "outputs": [
    {
     "name": "stdout",
     "output_type": "stream",
     "text": [
      "If we add up the middle page number form correctly-ordered updates we get : 6260\n"
     ]
    }
   ],
   "source": [
    "def build_dict(order):\n",
    "    my_dict = {}\n",
    "    for ord in order:\n",
    "        if ord[0] not in my_dict:\n",
    "            my_dict[ord[0]] = {'before':[], 'after':[ord[1]]}\n",
    "        else:\n",
    "            my_dict[ord[0]]['after'].append(ord[1])\n",
    "        if ord[1] not in my_dict:\n",
    "            my_dict[ord[1]] = {'before':[ord[0]], 'after':[]}\n",
    "        else:\n",
    "            my_dict[ord[1]]['before'].append(ord[0])\n",
    "    return my_dict\n",
    "\n",
    "def correct_order(rules, line):\n",
    "    for i in range(len(line)):\n",
    "        current_page = line[i]\n",
    "        if i>0:\n",
    "            for j in range(0, i):\n",
    "                if line[j] in rules[current_page]['after']:\n",
    "                    return False\n",
    "        if i<len(line):\n",
    "            for j in range(i, len(line)):\n",
    "                if line[j] in rules[current_page]['before']:\n",
    "                    return False\n",
    "    return True\n",
    "\n",
    "def process_queue(filename):\n",
    "    with open(filename, 'r') as file:\n",
    "        words = file.read().split('\\n\\n')\n",
    "        order = [rule.split('|') for rule in words[0].split('\\n')]\n",
    "        updates = [line.split(',') for line in words[1].split('\\n')]\n",
    "\n",
    "    rules = build_dict(order)\n",
    "    updated = [update for update in updates if correct_order(rules,update)]\n",
    "\n",
    "    sum_middle_page = 0\n",
    "    for update in updated:\n",
    "        sum_middle_page+= int(update[int(len(update)/2)])\n",
    "\n",
    "    return sum_middle_page\n",
    "\n",
    "print('If we add up the middle page number form correctly-ordered updates we get :',process_queue('pages_update.txt'))"
   ]
  },
  {
   "cell_type": "markdown",
   "metadata": {},
   "source": [
    "### Part 2"
   ]
  },
  {
   "cell_type": "code",
   "execution_count": 47,
   "metadata": {},
   "outputs": [
    {
     "name": "stdout",
     "output_type": "stream",
     "text": [
      "After fixing incorrectly-ordered updates we get : 5346\n"
     ]
    }
   ],
   "source": [
    "def fix_order(rules, line):\n",
    "    for i in range(len(line)):\n",
    "            current_page = line[i]\n",
    "            if i>0:\n",
    "                for j in range(0, i):\n",
    "                    if line[j] in rules[current_page]['after']:\n",
    "                        line[i]=line[j]\n",
    "                        line[j]=current_page\n",
    "                        if correct_order(rules, line):\n",
    "                            return line\n",
    "                        return fix_order(rules, line)\n",
    "            if i<len(line):\n",
    "                for j in range(i, len(line)):\n",
    "                    if line[j] in rules[current_page]['before']:\n",
    "                        line[i]=line[j]\n",
    "                        line[j]=current_page\n",
    "                        if correct_order(rules, line):\n",
    "                            return line\n",
    "                        return fix_order(rules, line)\n",
    "        \n",
    "def process_queue(filename):\n",
    "    with open(filename, 'r') as file:\n",
    "        words = file.read().split('\\n\\n')\n",
    "        order = [rule.split('|') for rule in words[0].split('\\n')]\n",
    "        updates = [line.split(',') for line in words[1].split('\\n')]\n",
    "\n",
    "    rules = build_dict(order)\n",
    "    updated = [fix_order(rules,update) for update in updates if not correct_order(rules,update)]\n",
    "  \n",
    "    sum_middle_page = 0\n",
    "    for update in updated:\n",
    "        sum_middle_page+= int(update[int(len(update)/2)])\n",
    "\n",
    "    return sum_middle_page\n",
    "\n",
    "print('After fixing incorrectly-ordered updates we get :',process_queue('pages_update.txt'))\n"
   ]
  }
 ],
 "metadata": {
  "kernelspec": {
   "display_name": "Python 3",
   "language": "python",
   "name": "python3"
  },
  "language_info": {
   "codemirror_mode": {
    "name": "ipython",
    "version": 3
   },
   "file_extension": ".py",
   "mimetype": "text/x-python",
   "name": "python",
   "nbconvert_exporter": "python",
   "pygments_lexer": "ipython3",
   "version": "3.12.1"
  }
 },
 "nbformat": 4,
 "nbformat_minor": 2
}
