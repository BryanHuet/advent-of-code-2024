{
 "cells": [
  {
   "cell_type": "markdown",
   "metadata": {},
   "source": [
    "# --- Day 2: Red-Nosed Reports ---\n",
    "\n",
    "### Part 1"
   ]
  },
  {
   "cell_type": "code",
   "execution_count": 156,
   "metadata": {},
   "outputs": [
    {
     "name": "stdout",
     "output_type": "stream",
     "text": [
      "There is 549 safety reports.\n"
     ]
    }
   ],
   "source": [
    "def is_valid_report(report):\n",
    "    sorted_report = sorted(report)\n",
    "    if report != sorted_report and report != sorted_report[::-1]:\n",
    "        return False\n",
    "\n",
    "    for i in range(len(report) - 1):\n",
    "        if report[i+1] - report[i] == 0 or abs(report[i] - report[i+1]) > 3:\n",
    "            return False\n",
    "    \n",
    "    return True\n",
    "\n",
    "def process_reports(filename):\n",
    "    with open(filename, 'r') as file:\n",
    "        reports = [\n",
    "            [int(level) for level in line.strip().split()]\n",
    "            for line in file\n",
    "        ]\n",
    "    \n",
    "    valid_reports = sum(is_valid_report(report) for report in reports)\n",
    "    \n",
    "    return valid_reports\n",
    "\n",
    "\n",
    "print('There is',process_reports('reports.txt'), 'safety reports.')"
   ]
  },
  {
   "cell_type": "markdown",
   "metadata": {},
   "source": [
    "### Part 2"
   ]
  },
  {
   "cell_type": "code",
   "execution_count": 158,
   "metadata": {},
   "outputs": [
    {
     "name": "stdout",
     "output_type": "stream",
     "text": [
      "589 reports are safe with potentialy one bad level.\n"
     ]
    }
   ],
   "source": [
    "def is_valid_report(report):\n",
    "    if report == []:\n",
    "        return False\n",
    "    sorted_report = sorted(report)\n",
    "    if report != sorted_report and report != sorted_report[::-1]:\n",
    "        return False\n",
    "    for i in range(len(report) - 1):\n",
    "        if report[i+1] - report[i] == 0 or abs(report[i] - report[i+1]) > 3:\n",
    "            return False\n",
    "        \n",
    "    return True\n",
    "\n",
    "def tolerate_bad_level(report):\n",
    "    if is_valid_report(report):\n",
    "        return True\n",
    "    flag = False\n",
    "    for i in range(len(report)):\n",
    "        if not flag:\n",
    "            flag = is_valid_report(report[:i]+report[i+1:])\n",
    "\n",
    "    return flag\n",
    "\n",
    "\n",
    "def process_reports(filename):\n",
    "    with open(filename, 'r') as file:\n",
    "        reports = [\n",
    "            [int(level) for level in line.strip().split()]\n",
    "            for line in file\n",
    "        ]\n",
    "    \n",
    "    valid_reports = [tolerate_bad_level(report) for report in reports]\n",
    "\n",
    "    return sum(valid_reports)\n",
    "\n",
    "\n",
    "print(process_reports('reports.txt'),'reports are safe with potentialy one bad level.')\n"
   ]
  }
 ],
 "metadata": {
  "kernelspec": {
   "display_name": "Python 3",
   "language": "python",
   "name": "python3"
  },
  "language_info": {
   "codemirror_mode": {
    "name": "ipython",
    "version": 3
   },
   "file_extension": ".py",
   "mimetype": "text/x-python",
   "name": "python",
   "nbconvert_exporter": "python",
   "pygments_lexer": "ipython3",
   "version": "3.12.1"
  }
 },
 "nbformat": 4,
 "nbformat_minor": 2
}
