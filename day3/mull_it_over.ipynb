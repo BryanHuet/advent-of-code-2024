{
 "cells": [
  {
   "cell_type": "markdown",
   "metadata": {},
   "source": [
    "# --- Day 3: Mull It Over ---\n",
    "\n",
    "### Part 1"
   ]
  },
  {
   "cell_type": "code",
   "execution_count": 6,
   "metadata": {},
   "outputs": [
    {
     "name": "stdout",
     "output_type": "stream",
     "text": [
      "Adding all multiplications result in : 153469856\n"
     ]
    }
   ],
   "source": [
    "import re\n",
    "def specific_binary_command(command, test_string):\n",
    "    pattern = r''+command+r'\\((\\d{1,3}),(\\d{1,3})\\)'\n",
    "    matches = re.findall(pattern, test_string)\n",
    "    return matches\n",
    "\n",
    "def multiply_tuples(list_contain_tuples):\n",
    "    total = 0\n",
    "    for tuple in list_contain_tuples:\n",
    "        total += int(tuple[0]) * int(tuple[1])\n",
    "    return total\n",
    "\n",
    "def process_program(filename):\n",
    "    with open(filename, 'r') as file:\n",
    "        program = file.read() \n",
    "    \n",
    "    return multiply_tuples(specific_binary_command('mul',program))\n",
    "\n",
    "\n",
    "print('Adding all multiplications result in :',process_program('program_corrupted.txt'))"
   ]
  },
  {
   "cell_type": "markdown",
   "metadata": {},
   "source": [
    "### Part 2"
   ]
  },
  {
   "cell_type": "code",
   "execution_count": 8,
   "metadata": {},
   "outputs": [
    {
     "name": "stdout",
     "output_type": "stream",
     "text": [
      "Adding all multiplications result with sub lines in : 77055967\n"
     ]
    }
   ],
   "source": [
    "import re\n",
    "\n",
    "def delete_invalid_lines(program):\n",
    "    pattern_ignore = re.compile(r\"don't\\(\\).*?do\\(\\)\", re.DOTALL)\n",
    "    texte_valide = re.sub(pattern_ignore, \"\", program)\n",
    "    return texte_valide\n",
    "\n",
    "\n",
    "def process_program(filename):\n",
    "    with open(filename, 'r') as file:\n",
    "        program = file.read() \n",
    "    \n",
    "    return multiply_tuples(specific_binary_command('mul',delete_invalid_lines(program)))\n",
    "\n",
    "\n",
    "print('Adding all multiplications result with sub lines in :',process_program('program_corrupted.txt'))"
   ]
  }
 ],
 "metadata": {
  "kernelspec": {
   "display_name": "Python 3",
   "language": "python",
   "name": "python3"
  },
  "language_info": {
   "codemirror_mode": {
    "name": "ipython",
    "version": 3
   },
   "file_extension": ".py",
   "mimetype": "text/x-python",
   "name": "python",
   "nbconvert_exporter": "python",
   "pygments_lexer": "ipython3",
   "version": "3.12.1"
  }
 },
 "nbformat": 4,
 "nbformat_minor": 2
}
