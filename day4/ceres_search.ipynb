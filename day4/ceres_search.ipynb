{
 "cells": [
  {
   "cell_type": "markdown",
   "metadata": {},
   "source": [
    "# --- Day 4: Ceres Search ---\n",
    "\n",
    "### Part 1"
   ]
  },
  {
   "cell_type": "code",
   "execution_count": 157,
   "metadata": {},
   "outputs": [
    {
     "name": "stdout",
     "output_type": "stream",
     "text": [
      "Number of XMAS found : 2547\n"
     ]
    }
   ],
   "source": [
    "def search_horizontal(word, target, min = 1):\n",
    "    target_found = ''.join(word).count(target)\n",
    "    if target_found >= min:\n",
    "        return target_found\n",
    "    return 0\n",
    "\n",
    "def build_vertical(words):\n",
    "    verticales = []\n",
    "    for i in range(len(words)):\n",
    "        vert=[]\n",
    "        for j in range(len(words[0])):\n",
    "            vert.append(words[j][i])\n",
    "        verticales.append(vert)\n",
    "    return verticales\n",
    "\n",
    "def build_diagonal(words):\n",
    "    lines_nb = len(words)\n",
    "    columns_nb = len(words[0])\n",
    "\n",
    "    diagonales = []\n",
    "    for diag in range(-lines_nb+1,columns_nb):\n",
    "        diagonal = []\n",
    "        for i in range(lines_nb):\n",
    "            j = i + diag\n",
    "            if 0 <= j < columns_nb:\n",
    "                diagonal.append(words[i][j])\n",
    "        if diagonal:\n",
    "            diagonales.append(diagonal)\n",
    "\n",
    "    for diag in range(lines_nb + columns_nb -1):\n",
    "        diagonal = []\n",
    "        for i in range(lines_nb):\n",
    "            j = diag - i\n",
    "            if 0 <= j < columns_nb:\n",
    "                diagonal.append(words[i][j])\n",
    "        if diagonal:\n",
    "            diagonales.append(diagonal)\n",
    "    return [''.join(diag) for diag in diagonales]\n",
    "\n",
    "def research_word(words, target, min=1):\n",
    "    number_found = 0\n",
    "    for word in words:\n",
    "        number_found += search_horizontal(word, target, min)\n",
    "        word_reversed = reversed(word.copy())\n",
    "        number_found += search_horizontal(word_reversed, target, min)\n",
    "    diagonales = build_diagonal(words)\n",
    "    for word in diagonales:\n",
    "        word = list(word)\n",
    "        number_found += search_horizontal(word, target, min)\n",
    "        word_reversed = reversed(word.copy())\n",
    "        number_found += search_horizontal(word_reversed, target, min)\n",
    "    verticales = build_vertical(words)\n",
    "    for word in verticales:\n",
    "        word = list(word)\n",
    "        number_found += search_horizontal(word, target, min)\n",
    "        word_reversed = reversed(word.copy())\n",
    "        number_found += search_horizontal(word_reversed, target, min)\n",
    "    return number_found\n",
    "\n",
    "def process_search(filename):\n",
    "    with open(filename, 'r') as file:\n",
    "        words = [[letter for letter in list(line.replace('\\n', ''))] \n",
    "        for line in file]\n",
    "    return research_word(words, 'XMAS', 1)\n",
    "\n",
    "print('Number of XMAS found :',process_search('words_xmas.txt'))"
   ]
  },
  {
   "cell_type": "markdown",
   "metadata": {},
   "source": [
    "### Part 2"
   ]
  },
  {
   "cell_type": "code",
   "execution_count": 156,
   "metadata": {},
   "outputs": [
    {
     "name": "stdout",
     "output_type": "stream",
     "text": [
      "Number of MAS found in X : 1939\n"
     ]
    }
   ],
   "source": [
    "def find_pattern(words):\n",
    "    nb_found = 0 \n",
    "    nb_lines = len(words)\n",
    "    nb_columns = len(words[0])\n",
    "\n",
    "    for i in range(nb_lines-1):\n",
    "        for j in range(nb_columns-1):\n",
    "            if (words[i][j] == 'A' and 0 < i < nb_lines-1 and 0 < j < nb_columns-1):\n",
    "                top_left = words[i-1][j-1]\n",
    "                top_rigth = words[i-1][j+1]\n",
    "                bottom_left = words[i+1][j-1]\n",
    "                bottom_rigth = words[i+1][j+1]\n",
    "                if(\n",
    "                    (top_left == 'M' or top_left == 'S') and (top_left != bottom_rigth) and\n",
    "                    (top_rigth == 'M' or top_rigth == 'S') and (top_rigth != bottom_left) and\n",
    "                    (bottom_left == 'M' or bottom_left == 'S') and (bottom_left != top_rigth) and\n",
    "                    (bottom_rigth == 'M' or bottom_rigth == 'S') and (bottom_rigth != top_left)\n",
    "                    ):\n",
    "                    nb_found += 1\n",
    "    return nb_found\n",
    "\n",
    "def process_search(filename):\n",
    "    with open(filename, 'r') as file:\n",
    "        words = [[letter for letter in list(line.replace('\\n', ''))] \n",
    "        for line in file]\n",
    "    return find_pattern([''.join(word) for word in words])\n",
    "\n",
    "print('Number of MAS found in X :',process_search('words_xmas.txt'))"
   ]
  }
 ],
 "metadata": {
  "kernelspec": {
   "display_name": "Python 3",
   "language": "python",
   "name": "python3"
  },
  "language_info": {
   "codemirror_mode": {
    "name": "ipython",
    "version": 3
   },
   "file_extension": ".py",
   "mimetype": "text/x-python",
   "name": "python",
   "nbconvert_exporter": "python",
   "pygments_lexer": "ipython3",
   "version": "3.12.1"
  }
 },
 "nbformat": 4,
 "nbformat_minor": 2
}
