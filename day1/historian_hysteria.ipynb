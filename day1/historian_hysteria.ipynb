{
 "cells": [
  {
   "cell_type": "markdown",
   "metadata": {},
   "source": [
    "# --- Day 1: Historian Hysteria ---\n",
    "\n",
    "### Part 1"
   ]
  },
  {
   "cell_type": "code",
   "execution_count": 2,
   "metadata": {},
   "outputs": [
    {
     "name": "stdout",
     "output_type": "stream",
     "text": [
      "The total distance between lists are : 1970720\n"
     ]
    }
   ],
   "source": [
    "file = open('input.txt', 'r')\n",
    "\n",
    "firstList = []\n",
    "secondList = []\n",
    "\n",
    "for lines in file:\n",
    "    splitedLine = lines.split(' ') \n",
    "    firstList.append(int(splitedLine[0]))\n",
    "    secondList.append(int(splitedLine[-1].replace('\\n', '')))\n",
    "\n",
    "file.close()\n",
    "\n",
    "firstList.sort()\n",
    "secondList.sort()\n",
    "\n",
    "totalDistance = 0\n",
    "for i in range(len(firstList)):\n",
    "    totalDistance += abs(firstList[i] - secondList[i])\n",
    "\n",
    "print('The total distance between lists are :', totalDistance)\n"
   ]
  },
  {
   "cell_type": "markdown",
   "metadata": {},
   "source": [
    "### Part 2"
   ]
  },
  {
   "cell_type": "code",
   "execution_count": 4,
   "metadata": {},
   "outputs": [
    {
     "name": "stdout",
     "output_type": "stream",
     "text": [
      "The total similarity score between lists are : 17191599\n"
     ]
    }
   ],
   "source": [
    "similarityScores = {}\n",
    "similarityTotalScore = 0\n",
    "\n",
    "for i in firstList:\n",
    "    if i in similarityScores:\n",
    "        similarityTotalScore += similarityScores[i]\n",
    "    else:\n",
    "        similarityScores[i] = i * secondList.count(i)\n",
    "        similarityTotalScore += similarityScores[i]\n",
    "\n",
    "print('The total similarity score between lists are :',similarityTotalScore)"
   ]
  }
 ],
 "metadata": {
  "kernelspec": {
   "display_name": "Python 3",
   "language": "python",
   "name": "python3"
  },
  "language_info": {
   "codemirror_mode": {
    "name": "ipython",
    "version": 3
   },
   "file_extension": ".py",
   "mimetype": "text/x-python",
   "name": "python",
   "nbconvert_exporter": "python",
   "pygments_lexer": "ipython3",
   "version": "3.12.1"
  }
 },
 "nbformat": 4,
 "nbformat_minor": 2
}
